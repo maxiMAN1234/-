{
 "cells": [
  {
   "cell_type": "code",
   "execution_count": null,
   "id": "63d129b4",
   "metadata": {},
   "outputs": [
    {
     "name": "stdout",
     "output_type": "stream",
     "text": [
      "Server start\n",
      "Port listening: 3456\n"
     ]
    }
   ],
   "source": [
    "import socket\n",
    "port = 3456\n",
    "\n",
    "def _main():\n",
    "    sock = socket.socket() #запуск сервера\n",
    "    sock.bind(('', port)) #подключение к порту\n",
    "    print('Server start')\n",
    "    sock.listen() #подключение прослушки\n",
    "    print('Port listening:', port)\n",
    "    connection, address = sock.accept() #получение порта и адреса\n",
    "    print('Client connection:', address)\n",
    "\n",
    "    while 1:\n",
    "        data = connection.recv(1024)\n",
    "        if not data:\n",
    "            break\n",
    "        decoded = data.decode()\n",
    "        print(f'Came from a client \"{decoded}\"')\n",
    "        connection.send(data)\n",
    "        print('Message sent successfully')\n",
    "\n",
    "    connection.close() #закрытие подключение сокетов\n",
    "    print('Disabling a client', address)\n",
    "    sock.close() #закрытие сервера\n",
    "    print('Server shutdown')\n",
    "\n",
    "\n",
    "if __name__ == '__main__':\n",
    "    _main()"
   ]
  },
  {
   "cell_type": "code",
   "execution_count": null,
   "id": "b7a1dd36",
   "metadata": {},
   "outputs": [],
   "source": []
  }
 ],
 "metadata": {
  "kernelspec": {
   "display_name": "Python 3",
   "language": "python",
   "name": "python3"
  },
  "language_info": {
   "codemirror_mode": {
    "name": "ipython",
    "version": 3
   },
   "file_extension": ".py",
   "mimetype": "text/x-python",
   "name": "python",
   "nbconvert_exporter": "python",
   "pygments_lexer": "ipython3",
   "version": "3.8.8"
  }
 },
 "nbformat": 4,
 "nbformat_minor": 5
}
