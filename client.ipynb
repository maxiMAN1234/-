{
 "cells": [
  {
   "cell_type": "code",
   "execution_count": null,
   "id": "b7c05002",
   "metadata": {},
   "outputs": [
    {
     "name": "stdout",
     "output_type": "stream",
     "text": [
      "Server connection\n",
      "Input message:21\n",
      "Sending to the server \"21\"\n",
      "Came from the server \"21\"\n",
      "21\n"
     ]
    }
   ],
   "source": [
    "import socket\n",
    "\n",
    "from server import port\n",
    "\n",
    "def _main():\n",
    "    sock = socket.socket() #создание сокета\n",
    "    sock.connect(('localhost', port)) #подключение к серверу\n",
    "    print('Server connection')\n",
    "\n",
    "    while 1:\n",
    "        message = input('Input message:')\n",
    "        if message == 'exit':\n",
    "            break\n",
    "        print(f'Sending to the server \"{message}\"')\n",
    "        sock.send(message.encode())\n",
    "        data = sock.recv(1024).decode()\n",
    "        print(f'Came from the server \"{data}\"')\n",
    "        print(data)\n",
    "\n",
    "    sock.close() #закрытие сервера\n",
    "    print('Server connection closed')\n",
    "\n",
    "\n",
    "if __name__ == '__main__':\n",
    "    _main()"
   ]
  },
  {
   "cell_type": "code",
   "execution_count": null,
   "id": "f63df90f",
   "metadata": {},
   "outputs": [],
   "source": []
  },
  {
   "cell_type": "code",
   "execution_count": null,
   "id": "a8a4fa54",
   "metadata": {},
   "outputs": [],
   "source": []
  }
 ],
 "metadata": {
  "kernelspec": {
   "display_name": "Python 3",
   "language": "python",
   "name": "python3"
  },
  "language_info": {
   "codemirror_mode": {
    "name": "ipython",
    "version": 3
   },
   "file_extension": ".py",
   "mimetype": "text/x-python",
   "name": "python",
   "nbconvert_exporter": "python",
   "pygments_lexer": "ipython3",
   "version": "3.8.8"
  }
 },
 "nbformat": 4,
 "nbformat_minor": 5
}
